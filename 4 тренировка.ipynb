{
 "cells": [
  {
   "cell_type": "code",
   "execution_count": null,
   "metadata": {},
   "outputs": [],
   "source": []
  },
  {
   "cell_type": "code",
   "execution_count": 1,
   "metadata": {},
   "outputs": [
    {
     "name": "stdout",
     "output_type": "stream",
     "text": [
      "3\n",
      "Hello Hi\n",
      "Bye Goodbye\n",
      "List Array\n",
      "Goodbye\n",
      "Bye\n"
     ]
    }
   ],
   "source": [
    "n = int(input())\n",
    "\n",
    "dictionary = dict()\n",
    "\n",
    "for one in range(n):\n",
    "    first, second = input().split()\n",
    "    \n",
    "    dictionary[first] = second\n",
    "    dictionary[second] = first\n",
    "third = input()\n",
    "print(dictionary[third])"
   ]
  },
  {
   "cell_type": "code",
   "execution_count": null,
   "metadata": {},
   "outputs": [],
   "source": [
    "3\n",
    "Hello Hi\n",
    "Bye Goodbye\n",
    "List Array\n",
    "Goodbye\n"
   ]
  },
  {
   "cell_type": "code",
   "execution_count": 19,
   "metadata": {},
   "outputs": [
    {
     "name": "stdout",
     "output_type": "stream",
     "text": [
      "aba aba; aba @?\"\n",
      "0 0 1 2 1 3 0 4 2 5 0 0 0\n"
     ]
    }
   ],
   "source": [
    "data = input().split()\n",
    "\n",
    "\n",
    "res = dict()\n",
    "answer = list()\n",
    "\n",
    "for one in data:\n",
    "    \n",
    "    if one not in res:\n",
    "        answer.append(0)\n",
    "        res[one] =1\n",
    "    else:\n",
    "        answer.append(res[one])\n",
    "        res[one] += 1\n",
    "\n",
    "print(' '.join(list(map(str, answer))))"
   ]
  },
  {
   "cell_type": "code",
   "execution_count": null,
   "metadata": {},
   "outputs": [],
   "source": [
    "0 0 0 0 0 0 1 0 0 1 0 0 1 0 2 2 0 0 0 0 1 2 3 3 1 1 4 0 1 0 1 2 4 1 5 0 0 \n"
   ]
  },
  {
   "cell_type": "code",
   "execution_count": 30,
   "metadata": {},
   "outputs": [],
   "source": [
    "ans = \"\"\"She sells sea shells on the sea shore;\n",
    "The shells that she sells are sea shells I'm sure.\n",
    "So if she sells sea shells on the sea shore,\n",
    "I'm sure that the shells are sea shore shells.\n",
    "\"\"\"\n"
   ]
  },
  {
   "cell_type": "code",
   "execution_count": 31,
   "metadata": {},
   "outputs": [
    {
     "name": "stdout",
     "output_type": "stream",
     "text": [
      "0 0 0 0 0 0 1 0 0 1 0 0 1 0 2 2 0 0 0 0 1 2 3 3 1 1 4 0 1 0 1 2 4 1 5 0 0\n"
     ]
    }
   ],
   "source": [
    "data = ans.split()\n",
    "\n",
    "\n",
    "res = dict()\n",
    "answer = list()\n",
    "\n",
    "for one in data:\n",
    "    \n",
    "    if one not in res:\n",
    "        answer.append(0)\n",
    "        res[one] =1\n",
    "    else:\n",
    "        answer.append(res[one])\n",
    "        res[one] += 1\n",
    "\n",
    "print(' '.join(list(map(str, answer))))"
   ]
  },
  {
   "cell_type": "code",
   "execution_count": 3,
   "metadata": {},
   "outputs": [
    {
     "data": {
      "text/plain": [
       "'1 2'"
      ]
     },
     "execution_count": 3,
     "metadata": {},
     "output_type": "execute_result"
    }
   ],
   "source": [
    "0 0 0 0 0 0 1 0 0 1 0 0 1 0 2 2 0 0 0 0 1 2 3 3 1 1 4 0 1 0 1 2 4 1 5 0 0 \n"
   ]
  },
  {
   "cell_type": "code",
   "execution_count": 15,
   "metadata": {},
   "outputs": [
    {
     "name": "stdout",
     "output_type": "stream",
     "text": [
      "\n",
      " hello \n",
      " 5\n"
     ]
    }
   ],
   "source": [
    "print('\\n hello \\n 5')"
   ]
  },
  {
   "cell_type": "code",
   "execution_count": 27,
   "metadata": {
    "scrolled": true
   },
   "outputs": [
    {
     "name": "stdout",
     "output_type": "stream",
     "text": [
      "She sells sea shells on the sea shore;\n",
      "The shells that she sells are sea shells I'm sure.\n",
      "\n",
      "So if she sells sea shells on the sea shore,\n",
      "I'm sure that the shells are sea shore shells.\n",
      "\n"
     ]
    }
   ],
   "source": [
    "print(ans)"
   ]
  },
  {
   "cell_type": "code",
   "execution_count": 34,
   "metadata": {},
   "outputs": [
    {
     "name": "stdout",
     "output_type": "stream",
     "text": [
      "oh you touch my tralala mmm my ding ding dong\n",
      "my\n"
     ]
    }
   ],
   "source": [
    "data = input().split()\n",
    "\n",
    "\n",
    "letter = str\n",
    "num = 0\n",
    "\n",
    "d = dict()\n",
    "\n",
    "for one in data:\n",
    "    \n",
    "    if one not in d:\n",
    "        d[one] = 1\n",
    "    else:\n",
    "        d[one] += 1\n",
    "    \n",
    "    if d[one] > num:\n",
    "        letter = one\n",
    "        num = d[one]\n",
    "print(letter)\n",
    "    "
   ]
  },
  {
   "cell_type": "code",
   "execution_count": null,
   "metadata": {},
   "outputs": [],
   "source": []
  },
  {
   "cell_type": "code",
   "execution_count": 7,
   "metadata": {},
   "outputs": [
    {
     "name": "stdout",
     "output_type": "stream",
     "text": [
      "oh you touch my tralala mmm my ding ding dong\n"
     ]
    },
    {
     "data": {
      "text/plain": [
       "['oh', 'you', 'touch', 'my', 'tralala', 'mmm', 'my', 'ding', 'ding', 'dong']"
      ]
     },
     "execution_count": 7,
     "metadata": {},
     "output_type": "execute_result"
    }
   ],
   "source": [
    "data = input().split()\n",
    "data"
   ]
  },
  {
   "cell_type": "code",
   "execution_count": 13,
   "metadata": {},
   "outputs": [
    {
     "name": "stdout",
     "output_type": "stream",
     "text": [
      "oh you touch my tralala mmm my ding ding dong\n",
      "ding\n"
     ]
    }
   ],
   "source": [
    "import sys\n",
    "\n",
    "data = input().split()\n",
    "nums = 0\n",
    "answers = list()\n",
    "\n",
    "num = dict()\n",
    "\n",
    "for one in data:\n",
    "    \n",
    "    if one not in num:\n",
    "        num[one] = 1\n",
    "    else:\n",
    "        num[one] += 1\n",
    "        \n",
    "    if num[one] > nums:\n",
    "        answers = [one]\n",
    "        nums = num[one]\n",
    "    elif num[one] ==nums:\n",
    "        answers.append(one)\n",
    "    \n",
    "print(sorted(answers)[0])"
   ]
  },
  {
   "cell_type": "code",
   "execution_count": 15,
   "metadata": {},
   "outputs": [
    {
     "name": "stdout",
     "output_type": "stream",
     "text": [
      "5\n",
      "1 50 3 4 3\n",
      "16\n",
      "1 2 3 4 5 1 3 3 4 5 5 5 5 5 4 5\n",
      "YES\n",
      "NO\n",
      "NO\n",
      "NO\n",
      "YES\n"
     ]
    }
   ],
   "source": [
    "n =int(input())\n",
    "\n",
    "c = dict()\n",
    "botton = input().split()\n",
    "\n",
    "for one in range(len(botton)):\n",
    "    c[one + 1] = int(botton[one])\n",
    "    \n",
    "k = int(input())\n",
    "\n",
    "num_bot = input().split()\n",
    "\n",
    "\n",
    "for one in range(k):\n",
    "    c[int(num_bot[one])] -= 1\n",
    "\n",
    "for one in c.keys():\n",
    "    if c[one] < 0:\n",
    "        print('YES')\n",
    "    else:\n",
    "        print(\"NO\")\n",
    "    \n"
   ]
  },
  {
   "cell_type": "code",
   "execution_count": null,
   "metadata": {},
   "outputs": [],
   "source": [
    "5\n",
    "1 50 3 4 3\n",
    "16\n",
    "1 2 3 4 5 1 3 3 4 5 5 5 5 5 4 5\n"
   ]
  },
  {
   "cell_type": "code",
   "execution_count": null,
   "metadata": {},
   "outputs": [],
   "source": [
    "n = int(input())"
   ]
  },
  {
   "cell_type": "code",
   "execution_count": null,
   "metadata": {},
   "outputs": [],
   "source": [
    "3\n",
    "3 1\n",
    "2 2\n",
    "3 3\n"
   ]
  },
  {
   "cell_type": "code",
   "execution_count": 20,
   "metadata": {},
   "outputs": [
    {
     "name": "stdout",
     "output_type": "stream",
     "text": [
      "3\n",
      "3 1\n",
      "2 2\n",
      "3 3\n",
      "5\n"
     ]
    }
   ],
   "source": [
    "n = int(input())\n",
    "floor = dict()\n",
    "\n",
    "for one in range(n):\n",
    "    width, height = list(map(int, input().split()))\n",
    "    \n",
    "    if width not in floor:\n",
    "        floor[width] = height\n",
    "    else:\n",
    "        if height > floor[width]:\n",
    "            floor[width] = height\n",
    "\n",
    "gen_width =0\n",
    "for one in floor.keys():\n",
    "    gen_width += floor[one]\n",
    "print(gen_width)"
   ]
  },
  {
   "cell_type": "code",
   "execution_count": 56,
   "metadata": {},
   "outputs": [],
   "source": [
    "rows  =\"\"\"Ivanov paper 10\n",
    "Petrov pens 5\n",
    "Ivanov marker 3\n",
    "Ivanov paper 7\n",
    "Petrov envelope 20\n",
    "Ivanov envelope 5\"\"\""
   ]
  },
  {
   "cell_type": "code",
   "execution_count": 57,
   "metadata": {},
   "outputs": [
    {
     "data": {
      "text/plain": [
       "['Ivanov paper 10',\n",
       " 'Petrov pens 5',\n",
       " 'Ivanov marker 3',\n",
       " 'Ivanov paper 7',\n",
       " 'Petrov envelope 20',\n",
       " 'Ivanov envelope 5']"
      ]
     },
     "execution_count": 57,
     "metadata": {},
     "output_type": "execute_result"
    }
   ],
   "source": [
    "data = rows.split('\\n')\n",
    "data"
   ]
  },
  {
   "cell_type": "code",
   "execution_count": 59,
   "metadata": {},
   "outputs": [
    {
     "name": "stdout",
     "output_type": "stream",
     "text": [
      "Ivanov:\n",
      "envelope 5\n",
      "marker 3\n",
      "paper 17\n",
      "Petrov:\n",
      "envelope 20\n",
      "pens 5\n",
      "\n"
     ]
    }
   ],
   "source": [
    "names = dict()\n",
    "\n",
    "\n",
    "for one in data:\n",
    "    name, product, number = list(one.split())\n",
    "    \n",
    "    if name not in names:\n",
    "        names[name] = dict()\n",
    "        names[name][product] = int(number)\n",
    "        \n",
    "    else:\n",
    "        if product not in names[name]:\n",
    "            names[name][product] = int(number)\n",
    "        else:\n",
    "            names[name][product] += int(number)\n",
    "#print(names)\n",
    "\n",
    "\n",
    "for one in sorted(names.keys()):\n",
    "    print(one, ':', sep='')\n",
    "    for another in sorted(names[one].keys()):\n",
    "        print(another, names[one][another])\n",
    "print()"
   ]
  },
  {
   "cell_type": "code",
   "execution_count": null,
   "metadata": {},
   "outputs": [],
   "source": [
    "Ivanov:\n",
    "envelope 5\n",
    "marker 3\n",
    "paper 17\n",
    "Petrov:\n",
    "envelope 20\n",
    "pens 5\n"
   ]
  },
  {
   "cell_type": "code",
   "execution_count": 25,
   "metadata": {},
   "outputs": [
    {
     "data": {
      "text/plain": [
       "4"
      ]
     },
     "execution_count": 25,
     "metadata": {},
     "output_type": "execute_result"
    }
   ],
   "source": [
    "names = dict()\n",
    "\n",
    "names['re'] = dict()\n",
    "\n",
    "names['re'][1] = 4\n",
    "names['re'][1]"
   ]
  },
  {
   "cell_type": "code",
   "execution_count": null,
   "metadata": {},
   "outputs": [],
   "source": [
    "data = input().split('\\n')\n",
    "names = dict()\n",
    "\n",
    "\n",
    "for one in data:\n",
    "    name, product, number = list(one.split())\n",
    "    \n",
    "    if name not in names:\n",
    "        names[name] = dict()\n",
    "        names[name][product] = int(number)\n",
    "        \n",
    "    else:\n",
    "        if product not in names[name]:\n",
    "            names[name][product] = int(number)\n",
    "        else:\n",
    "            names[name][product] += int(number)\n",
    "#print(names)\n",
    "\n",
    "\n",
    "for one in sorted(names.keys()):\n",
    "    print(one, ':', sep='')\n",
    "    for another in sorted(names[one].keys()):\n",
    "        print(another, names[one][another])"
   ]
  },
  {
   "cell_type": "code",
   "execution_count": 55,
   "metadata": {},
   "outputs": [
    {
     "ename": "AttributeError",
     "evalue": "'list' object has no attribute 'split'",
     "output_type": "error",
     "traceback": [
      "\u001b[1;31m---------------------------------------------------------------------------\u001b[0m",
      "\u001b[1;31mAttributeError\u001b[0m                            Traceback (most recent call last)",
      "\u001b[1;32m<ipython-input-55-38cd3c71a875>\u001b[0m in \u001b[0;36m<module>\u001b[1;34m\u001b[0m\n\u001b[0;32m      1\u001b[0m \u001b[1;32mimport\u001b[0m \u001b[0msys\u001b[0m\u001b[1;33m\u001b[0m\u001b[1;33m\u001b[0m\u001b[0m\n\u001b[1;32m----> 2\u001b[1;33m \u001b[0mdata\u001b[0m \u001b[1;33m=\u001b[0m \u001b[0mdata\u001b[0m\u001b[1;33m.\u001b[0m\u001b[0msplit\u001b[0m\u001b[1;33m(\u001b[0m\u001b[1;34m'\\n'\u001b[0m\u001b[1;33m)\u001b[0m\u001b[1;33m\u001b[0m\u001b[1;33m\u001b[0m\u001b[0m\n\u001b[0m\u001b[0;32m      3\u001b[0m \u001b[0mnames\u001b[0m \u001b[1;33m=\u001b[0m \u001b[0mdict\u001b[0m\u001b[1;33m(\u001b[0m\u001b[1;33m)\u001b[0m\u001b[1;33m\u001b[0m\u001b[1;33m\u001b[0m\u001b[0m\n\u001b[0;32m      4\u001b[0m \u001b[1;33m\u001b[0m\u001b[0m\n\u001b[0;32m      5\u001b[0m \u001b[1;33m\u001b[0m\u001b[0m\n",
      "\u001b[1;31mAttributeError\u001b[0m: 'list' object has no attribute 'split'"
     ]
    }
   ],
   "source": [
    "import sys\n",
    "data = data.split('\\n')\n",
    "names = dict()\n",
    "\n",
    "\n",
    "for one in data:\n",
    "    name, product, number = list(one.split())\n",
    "    \n",
    "    if name not in names:\n",
    "        names[name] = dict()\n",
    "        names[name][product] = int(number)\n",
    "        \n",
    "    else:\n",
    "        if product not in names[name]:\n",
    "            names[name][product] = int(number)\n",
    "        else:\n",
    "            names[name][product] += int(number)\n",
    "#print(names)\n",
    "\n",
    "\n",
    "for one in sorted(names.keys()):\n",
    "    print(one, ':', sep='')\n",
    "    for another in sorted(names[one].keys()):\n",
    "        print(another, str(names[one][another]))\n",
    "print()"
   ]
  },
  {
   "cell_type": "code",
   "execution_count": null,
   "metadata": {},
   "outputs": [],
   "source": []
  },
  {
   "cell_type": "code",
   "execution_count": 11,
   "metadata": {},
   "outputs": [
    {
     "name": "stdout",
     "output_type": "stream",
     "text": [
      "2 1 5\n"
     ]
    }
   ],
   "source": [
    "t, d, n = list(map(int, input().split()))"
   ]
  },
  {
   "cell_type": "code",
   "execution_count": 4,
   "metadata": {},
   "outputs": [],
   "source": [
    "def func_t(t, before = [0, 0 , 0, 0]):\n",
    "    \n",
    "    before[0] += t\n",
    "    before[1] += t\n",
    "    before[2] -= t\n",
    "    before[3] -= t\n",
    "    return before\n",
    "\n",
    "    \n",
    "def func_navig(f, d):\n",
    "    first = f[1] + d - f[0]\n",
    "    second = f[1] + d + f[0]\n",
    "    third = f[1] - d - f[0]\n",
    "    thourth = f[1] - d + f[0]\n",
    "    return (first, second, third, thourth)\n",
    "\n",
    "def res(first_vector, second_vector):\n",
    "    union_vector =[0] *4\n",
    "    union_vector[0] = min(first_vector[0], second_vector[0])\n",
    "    union_vector[1] = min(first_vector[1], second_vector[1])\n",
    "    \n",
    "    union_vector[2] = max(first_vector[2], second_vector[2])\n",
    "    union_vector[3] = max(first_vector[3], second_vector[3])\n",
    "    return union_vector\n"
   ]
  },
  {
   "cell_type": "code",
   "execution_count": 32,
   "metadata": {},
   "outputs": [
    {
     "name": "stdout",
     "output_type": "stream",
     "text": [
      "1 10 1\n",
      "0 0\n",
      "5\n",
      "0 -1\n",
      "1 0\n",
      "0 0\n",
      "-1 0\n",
      "0 1\n"
     ]
    }
   ],
   "source": [
    "t, d, n = list(map(int, input().split()))\n",
    "def func_t(t, before):\n",
    "    vefore = [0] * 4\n",
    "    before[0] += t\n",
    "    before[1] += t\n",
    "    before[2] -= t\n",
    "    before[3] -= t\n",
    "    return before\n",
    "\n",
    "    \n",
    "def func_navig(f, d):\n",
    "    first = f[1] + d - f[0]\n",
    "    second = f[1] + d + f[0]\n",
    "    third = f[1] - d - f[0]\n",
    "    thourth = f[1] - d + f[0]\n",
    "    return (first, second, third, thourth)\n",
    "\n",
    "def res(first_vector, second_vector):\n",
    "    union_vector =[0] *4\n",
    "    union_vector[0] = min(first_vector[0], second_vector[0])\n",
    "    union_vector[1] = min(first_vector[1], second_vector[1])\n",
    "    \n",
    "    union_vector[2] = max(first_vector[2], second_vector[2])\n",
    "    union_vector[3] = max(first_vector[3], second_vector[3])\n",
    "    return union_vector\n",
    "\n",
    "last_step = func_t(t, [0, 0, 0, 0])\n",
    "result = list(last_step)\n",
    "\n",
    "for ind in range(n):\n",
    "    if ind == 0:\n",
    "        last_step = func_t(t, [0, 0, 0, 0])\n",
    "    else:\n",
    "        lat_step = func_t(t, result)\n",
    "    #print(result)\n",
    "        \n",
    "    places = list(map(int, input().split()))\n",
    "    res_from_navi = func_navig(places, d)\n",
    "    result = res(result, res_from_navi)\n",
    "    \n",
    "dots = []\n",
    "for first in range(result[2], result[0] + 1):\n",
    "    for second in range(result[3], result[1] + 1):\n",
    "        if (second + first) % 2 == 0:\n",
    "            y = (second + first) / 2\n",
    "            x = second  - y\n",
    "            #print([x, y])\n",
    "            dots.append([int(x), int(y)])\n",
    "\n",
    "print(len(dots))\n",
    "\n",
    "for one in range(len(dots)):\n",
    "    print(*dots[one])"
   ]
  },
  {
   "cell_type": "code",
   "execution_count": null,
   "metadata": {},
   "outputs": [],
   "source": [
    "1 10 1\n",
    "0 0\n",
    "\n"
   ]
  },
  {
   "cell_type": "code",
   "execution_count": null,
   "metadata": {},
   "outputs": [],
   "source": [
    "5\n",
    "-1 0\n",
    "0 -1\n",
    "0 0\n",
    "0 1\n",
    "1 0\n",
    "\n",
    "\n"
   ]
  },
  {
   "cell_type": "code",
   "execution_count": null,
   "metadata": {},
   "outputs": [],
   "source": []
  },
  {
   "cell_type": "code",
   "execution_count": 19,
   "metadata": {},
   "outputs": [
    {
     "data": {
      "text/plain": [
       "[0, 2, 0, 0]"
      ]
     },
     "execution_count": 19,
     "metadata": {},
     "output_type": "execute_result"
    }
   ],
   "source": [
    "a = [0] * 4\n",
    "a[1] = 2\n",
    "a"
   ]
  },
  {
   "cell_type": "code",
   "execution_count": null,
   "metadata": {},
   "outputs": [],
   "source": []
  },
  {
   "cell_type": "code",
   "execution_count": null,
   "metadata": {},
   "outputs": [],
   "source": [
    "data = input().splitlines()\n",
    "names = dict()\n",
    "\n",
    "\n",
    "for one in data:\n",
    "    name, product, number = list(one.split())\n",
    "    \n",
    "    if name not in names:\n",
    "        names[name] = dict()\n",
    "        names[name][product] = int(number)\n",
    "        \n",
    "    else:\n",
    "        if product not in names[name]:\n",
    "            names[name][product] = int(number)\n",
    "        else:\n",
    "            names[name][product] += int(number)\n",
    "#print(names)\n",
    "\n",
    "\n",
    "for one in sorted(names.keys()):\n",
    "    print(one, ':', sep='')\n",
    "    for another in sorted(names[one].keys()):\n",
    "        print(another, names[one][another])\n",
    "print()"
   ]
  },
  {
   "cell_type": "code",
   "execution_count": 41,
   "metadata": {},
   "outputs": [],
   "source": [
    "data = \"\"\"Ivanov paper 10\n",
    "Petrov pens 5\n",
    "Ivanov marker 3\n",
    "Ivanov paper 7\n",
    "Petrov envelope 20\n",
    "Ivanov envelope 5\n",
    "\"\"\""
   ]
  },
  {
   "cell_type": "code",
   "execution_count": 42,
   "metadata": {},
   "outputs": [
    {
     "name": "stdout",
     "output_type": "stream",
     "text": [
      "Ivanov:\n",
      "envelope 5\n",
      "marker 3\n",
      "paper 17\n",
      "Petrov:\n",
      "envelope 20\n",
      "pens 5\n"
     ]
    }
   ],
   "source": [
    "import sys\n",
    "data = sys.stdin.read().splitlines()\n",
    "names = dict()\n",
    "\n",
    "\n",
    "for one in data:\n",
    "    name, product, number = list(one.split())\n",
    "    \n",
    "    if name not in names:\n",
    "        names[name] = dict()\n",
    "        names[name][product] = int(number)\n",
    "        \n",
    "    else:\n",
    "        if product not in names[name]:\n",
    "            names[name][product] = int(number)\n",
    "        else:\n",
    "            names[name][product] += int(number)\n",
    "#print(names)\n",
    "\n",
    "\n",
    "for one in sorted(names.keys()):\n",
    "    print(one, ':', sep='')\n",
    "    for another in sorted(names[one].keys()):\n",
    "        print(another, names[one][another])"
   ]
  },
  {
   "cell_type": "code",
   "execution_count": null,
   "metadata": {},
   "outputs": [],
   "source": [
    "people = dict()\n",
    "\n"
   ]
  },
  {
   "cell_type": "code",
   "execution_count": 37,
   "metadata": {},
   "outputs": [],
   "source": [
    "data=\"\"\"BALANCE a\n",
    "BALANCE b\n",
    "DEPOSIT a 100\n",
    "BALANCE a\n",
    "BALANCE b\n",
    "WITHDRAW a 20\n",
    "BALANCE a\n",
    "BALANCE b\n",
    "WITHDRAW b 78\n",
    "BALANCE a\n",
    "BALANCE b\n",
    "WITHDRAW a 784\n",
    "BALANCE a\n",
    "BALANCE b\n",
    "DEPOSIT b 849\n",
    "BALANCE a\n",
    "BALANCE b\"\"\""
   ]
  },
  {
   "cell_type": "code",
   "execution_count": 38,
   "metadata": {},
   "outputs": [
    {
     "name": "stdout",
     "output_type": "stream",
     "text": [
      "ERROR\n",
      "ERROR\n",
      "100\n",
      "ERROR\n",
      "80\n",
      "ERROR\n",
      "80\n",
      "-78\n",
      "-704\n",
      "-78\n",
      "-704\n",
      "771\n"
     ]
    }
   ],
   "source": [
    "import sys\n",
    "account = dict()\n",
    "\n",
    "\n",
    "data = sys.stdin.read()\n",
    "\n",
    "for one in data.splitlines():\n",
    "    \n",
    "    do = one.split()[0]\n",
    "    who = one.split()[1]\n",
    "    \n",
    "    \n",
    "    if do == \"DEPOSIT\":\n",
    "        if who in account.keys():\n",
    "            account[who] += int(one.split()[2])\n",
    "        else:\n",
    "            account[who] = int(one.split()[2])\n",
    "    elif do == 'WITHDRAW':\n",
    "        if who in account.keys():\n",
    "            account[who] -= int(one.split()[2])\n",
    "        else:\n",
    "            account[who] = -int(one.split()[2])\n",
    "    elif do == 'BALANCE':\n",
    "        if who in account.keys():\n",
    "            print(account[who])\n",
    "        else:\n",
    "            print(\"ERROR\")\n",
    "    elif do == 'TRANSFER':\n",
    "        first = one.split()[1]\n",
    "        second = one.split()[2]\n",
    "        \n",
    "        account[first] = int(-one.split()[3]) if (first not in account.keys()) else int(account[first] - int(one.split()[3]))  \n",
    "        account[second] = int(one.split()[3]) if (second not in account.keys()) else int(account[second] + int(one.split()[3]))  \n",
    "        \n",
    "    elif do == 'INCOME':\n",
    "        for another in account.keys():\n",
    "            account[another] = int(1 + (int(who) / 100)* account[another])\n",
    "    #print(account)\n",
    "       "
   ]
  },
  {
   "cell_type": "code",
   "execution_count": 8,
   "metadata": {},
   "outputs": [
    {
     "data": {
      "text/plain": [
       "'DEPOSIT'"
      ]
     },
     "execution_count": 8,
     "metadata": {},
     "output_type": "execute_result"
    }
   ],
   "source": [
    "ERROR\n",
    "ERROR\n",
    "100\n",
    "ERROR\n",
    "80\n",
    "ERROR\n",
    "80\n",
    "-78\n",
    "-704\n",
    "-78\n",
    "-704\n",
    "771\n"
   ]
  },
  {
   "cell_type": "code",
   "execution_count": 14,
   "metadata": {},
   "outputs": [
    {
     "name": "stdout",
     "output_type": "stream",
     "text": [
      "89\n"
     ]
    }
   ],
   "source": [
    "do = 'er'\n",
    "if do == \"DEPOSIT\":\n",
    "    print(9)\n",
    "else:\n",
    "    print(89)"
   ]
  },
  {
   "cell_type": "code",
   "execution_count": 50,
   "metadata": {},
   "outputs": [],
   "source": [
    "data=\"\"\"DEPOSIT a 7473458\n",
    "DEPOSIT b 2344\n",
    "BALANCE a\n",
    "BALANCE b\n",
    "BALANCE c\n",
    "INCOME 1\n",
    "BALANCE a\n",
    "BALANCE b\n",
    "BALANCE c\n",
    "WITHDRAW c 7388231\n",
    "DEPOSIT a 23123\n",
    "WITHDRAW b 63743\n",
    "INCOME 7\n",
    "BALANCE a\n",
    "BALANCE b\n",
    "BALANCE c\n",
    "DEPOSIT c 7388232\n",
    "BALANCE c\n",
    "INCOME 99\n",
    "BALANCE a\n",
    "BALANCE b\n",
    "BALANCE c\n",
    "INCOME 100\n",
    "BALANCE a\n",
    "BALANCE b\n",
    "BALANCE c\"\"\""
   ]
  },
  {
   "cell_type": "code",
   "execution_count": 51,
   "metadata": {},
   "outputs": [
    {
     "name": "stdout",
     "output_type": "stream",
     "text": [
      "7473458\n",
      "2344\n",
      "ERROR\n",
      "7548192\n",
      "2367\n",
      "ERROR\n",
      "8101307\n",
      "-65672\n",
      "-7905407\n",
      "-517175\n",
      "16121600\n",
      "-130687\n",
      "-1029178\n",
      "32243200\n",
      "-261374\n",
      "-2058356\n"
     ]
    }
   ],
   "source": [
    "account = dict()\n",
    "\n",
    "\n",
    "for one in data.splitlines():\n",
    "    \n",
    "    do = one.split()[0]\n",
    "    who = one.split()[1]\n",
    "    \n",
    "    \n",
    "    if do == \"DEPOSIT\":\n",
    "        if who in account.keys():\n",
    "            account[who] += int(one.split()[2])\n",
    "        else:\n",
    "            account[who] = int(one.split()[2])\n",
    "    elif do == 'WITHDRAW':\n",
    "        if who in account.keys():\n",
    "            account[who] -= int(one.split()[2])\n",
    "        else:\n",
    "            account[who] = -int(one.split()[2])\n",
    "    elif do == 'BALANCE':\n",
    "        if who in account.keys():\n",
    "            print(account[who])\n",
    "        else:\n",
    "            print(\"ERROR\")\n",
    "    elif do == 'TRANSFER':\n",
    "        first = one.split()[1]\n",
    "        second = one.split()[2]\n",
    "        \n",
    "        account[first] = int(-one.split()[3]) if (first not in account.keys()) else int(account[first] - int(one.split()[3]))  \n",
    "        account[second] = int(one.split()[3]) if (second not in account.keys()) else int(account[second] + int(one.split()[3]))  \n",
    "        \n",
    "    elif do == 'INCOME':\n",
    "        for another in account.keys():\n",
    "            ind = (int(who) / 100) + 1\n",
    "            #print(ind)\n",
    "            if  account[another]> 0:\n",
    "                \n",
    "            account[another] = int(ind * account[another])\n",
    "    #print(account)"
   ]
  },
  {
   "cell_type": "code",
   "execution_count": null,
   "metadata": {},
   "outputs": [],
   "source": []
  },
  {
   "cell_type": "code",
   "execution_count": 14,
   "metadata": {},
   "outputs": [
    {
     "name": "stdout",
     "output_type": "stream",
     "text": [
      "4 11\n",
      "cAda\n",
      "AbrAcadAbRa\n"
     ]
    }
   ],
   "source": [
    "g, s = list(map(int, input().split()))\n",
    "w = input()\n",
    "string = input()"
   ]
  },
  {
   "cell_type": "code",
   "execution_count": 30,
   "metadata": {},
   "outputs": [
    {
     "name": "stdout",
     "output_type": "stream",
     "text": [
      "4 11\n",
      "cAda\n",
      "AbrAcadAbRa\n",
      "{'c': 0, 'A': 2, 'd': 0, 'a': 0}\n",
      "{'c': 1, 'A': 1, 'd': 0, 'a': 0}\n",
      "{'c': 1, 'A': 1, 'd': 0, 'a': 0}\n",
      "{'c': 1, 'A': 1, 'd': 0, 'a': 1}\n",
      "{'c': 1, 'A': 1, 'd': 0, 'a': 1}\n",
      "{'c': 1, 'A': 1, 'd': 1, 'a': 1}\n",
      "{'c': 1, 'A': 1, 'd': 1, 'a': 1}\n",
      "{'c': 1, 'A': 1, 'd': 1, 'a': 1}\n",
      "{'c': 1, 'A': 1, 'd': 1, 'a': 1}\n",
      "{'c': 0, 'A': 1, 'd': 1, 'a': 1}\n",
      "{'c': 0, 'A': 1, 'd': 1, 'a': 1}\n",
      "{'c': 0, 'A': 1, 'd': 1, 'a': 0}\n",
      "{'c': 0, 'A': 1, 'd': 1, 'a': 0}\n",
      "{'c': 0, 'A': 1, 'd': 0, 'a': 1}\n",
      "2\n"
     ]
    }
   ],
   "source": [
    "g, s = list(map(int, input().split()))\n",
    "w = input()\n",
    "string = input()\n",
    "#print(string[:3])\n",
    "\n",
    "len_w = len(w)\n",
    "\n",
    "num_letter = dict()\n",
    "num_in_long = dict()\n",
    "\n",
    "for one in w:\n",
    "    if one not in num_letter.keys():\n",
    "        num_letter[one] = 1\n",
    "        num_in_long[one] = 0\n",
    "    else:\n",
    "        num_letter[one] += 1\n",
    "    \n",
    "\n",
    "def check_sequence(sequence):\n",
    "    \n",
    "    num_let_seq = dict()\n",
    "    \n",
    "    for another in sequence:\n",
    "        if another not in num_let_seq.keys():\n",
    "            num_let_seq[another] = 1\n",
    "        else:\n",
    "            num_let_seq[another] += 1\n",
    "    \n",
    "    if num_let_seq == num_letter:\n",
    "        return True\n",
    "    else:\n",
    "        return False\n",
    "    \n",
    "s1 = 0    \n",
    "\n",
    "\n",
    "letter_in = dict()\n",
    "\n",
    "\n",
    "for one in string[ : g]:\n",
    "    if one in num_in_long.keys():\n",
    "        num_in_long[one] += 1\n",
    "\n",
    "if num_in_long == num_letter:\n",
    "    s1 =1\n",
    "\n",
    "\n",
    "if s > g:\n",
    "    \n",
    "    for ind in range(g , s):\n",
    "       # print(num_in_long)\n",
    "        if string[ind - g] in num_in_long.keys():\n",
    "            num_in_long[string[ind - g]] -= 1\n",
    "            \n",
    "        if string[ind] in num_in_long.keys():\n",
    "            num_in_long[string[ind]] += 1\n",
    "        \n",
    "        if num_in_long == num_letter:\n",
    "            s1 += 1\n",
    "            \n",
    "        #print(num_in_long)\n",
    "\n",
    "\"\"\"\n",
    "for ind in range(0, s - g + 1):\n",
    "    #print(1)\n",
    "    #print(string[ind:ind + g])\n",
    "    if check_sequence(string[ind:ind + g]) == True:\n",
    "        s1 += 1\"\"\"\n",
    "    \n",
    "print(s1)\n",
    "\n",
    "\n",
    "\n"
   ]
  },
  {
   "cell_type": "code",
   "execution_count": null,
   "metadata": {},
   "outputs": [],
   "source": [
    "4 11\n",
    "cAda\n",
    "AbrAcadAbRa"
   ]
  },
  {
   "cell_type": "code",
   "execution_count": null,
   "metadata": {},
   "outputs": [],
   "source": []
  },
  {
   "cell_type": "code",
   "execution_count": 2,
   "metadata": {},
   "outputs": [
    {
     "data": {
      "text/plain": [
       "True"
      ]
     },
     "execution_count": 2,
     "metadata": {},
     "output_type": "execute_result"
    }
   ],
   "source": [
    "d = {4 : 3}\n",
    "c = {4 :3}\n",
    "d ==c"
   ]
  },
  {
   "cell_type": "code",
   "execution_count": null,
   "metadata": {},
   "outputs": [],
   "source": []
  },
  {
   "cell_type": "code",
   "execution_count": null,
   "metadata": {},
   "outputs": [],
   "source": []
  },
  {
   "cell_type": "code",
   "execution_count": 22,
   "metadata": {},
   "outputs": [
    {
     "data": {
      "text/plain": [
       "0"
      ]
     },
     "execution_count": 22,
     "metadata": {},
     "output_type": "execute_result"
    }
   ],
   "source": [
    "def num_upper(word):\n",
    "    return 0 if  sum([1 if one.isupper() else 0 for one in word]) == 1 else 1\n",
    "num_upper('fEr')"
   ]
  },
  {
   "cell_type": "code",
   "execution_count": 23,
   "metadata": {},
   "outputs": [
    {
     "name": "stdout",
     "output_type": "stream",
     "text": [
      "4\n",
      "cAnnot\n",
      "cannOt\n",
      "fOund\n",
      "pAge\n",
      "thE pAge cAnnot be found\n"
     ]
    }
   ],
   "source": [
    "n = int(input())\n",
    "\n",
    "words = dict()\n",
    "\n",
    "\n",
    "for one in range(n):\n",
    "    \n",
    "    word = input()\n",
    "    \n",
    "    if word.lower() not in words.keys():\n",
    "        words[word.lower()] = [word]\n",
    "    else:\n",
    "        words[word.lower()].append(word)\n",
    "        \n",
    "num_of_mistakes = 0\n",
    "\n",
    "def num_upper(word):\n",
    "    return 0 if  sum([1 if one.isupper() else 0 for one in word]) == 1 else 1\n",
    "\n",
    "\n",
    "text = input()\n",
    "\n",
    "for one in text.split():\n",
    "    \n",
    "    \n",
    "    if one.lower() in words.keys():\n",
    "        if one not in words[one.lower()]:\n",
    "            num_of_mistakes += 1\n",
    "    else:\n",
    "        num_of_mistakes += num_upper(one)\n",
    "        \n",
    "\n",
    "print(num_of_mistakes)"
   ]
  },
  {
   "cell_type": "code",
   "execution_count": null,
   "metadata": {},
   "outputs": [],
   "source": [
    "\n",
    "\n",
    "\n",
    "#преобразовать, очистить от ненужного\n",
    "#create dict of special word \n",
    "#create dict all\n",
    "\n",
    "\n",
    "n, c, d = list(input().split())\n",
    "\n",
    "words_points = dict()\n",
    "\n",
    "for one in range(int(n)):\n",
    "    \n",
    "\n",
    "\n",
    "\n",
    "\n",
    "\n",
    "\n",
    "\n",
    "\n",
    "\n",
    "\n",
    "\n",
    "\n",
    "\n"
   ]
  },
  {
   "cell_type": "code",
   "execution_count": null,
   "metadata": {},
   "outputs": [],
   "source": []
  },
  {
   "cell_type": "code",
   "execution_count": null,
   "metadata": {},
   "outputs": [],
   "source": []
  },
  {
   "cell_type": "code",
   "execution_count": null,
   "metadata": {},
   "outputs": [],
   "source": []
  },
  {
   "cell_type": "code",
   "execution_count": null,
   "metadata": {},
   "outputs": [],
   "source": []
  },
  {
   "cell_type": "code",
   "execution_count": null,
   "metadata": {},
   "outputs": [],
   "source": []
  },
  {
   "cell_type": "code",
   "execution_count": null,
   "metadata": {},
   "outputs": [],
   "source": []
  },
  {
   "cell_type": "code",
   "execution_count": null,
   "metadata": {},
   "outputs": [],
   "source": []
  },
  {
   "cell_type": "code",
   "execution_count": null,
   "metadata": {},
   "outputs": [],
   "source": []
  },
  {
   "cell_type": "code",
   "execution_count": null,
   "metadata": {},
   "outputs": [],
   "source": []
  },
  {
   "cell_type": "code",
   "execution_count": null,
   "metadata": {},
   "outputs": [],
   "source": []
  },
  {
   "cell_type": "code",
   "execution_count": null,
   "metadata": {},
   "outputs": [],
   "source": []
  },
  {
   "cell_type": "code",
   "execution_count": null,
   "metadata": {},
   "outputs": [],
   "source": []
  },
  {
   "cell_type": "code",
   "execution_count": null,
   "metadata": {},
   "outputs": [],
   "source": []
  },
  {
   "cell_type": "code",
   "execution_count": null,
   "metadata": {},
   "outputs": [],
   "source": []
  },
  {
   "cell_type": "code",
   "execution_count": null,
   "metadata": {},
   "outputs": [],
   "source": []
  },
  {
   "cell_type": "code",
   "execution_count": null,
   "metadata": {},
   "outputs": [],
   "source": []
  },
  {
   "cell_type": "code",
   "execution_count": null,
   "metadata": {},
   "outputs": [],
   "source": []
  },
  {
   "cell_type": "code",
   "execution_count": null,
   "metadata": {},
   "outputs": [],
   "source": []
  },
  {
   "cell_type": "code",
   "execution_count": null,
   "metadata": {},
   "outputs": [],
   "source": []
  },
  {
   "cell_type": "code",
   "execution_count": null,
   "metadata": {},
   "outputs": [],
   "source": []
  },
  {
   "cell_type": "code",
   "execution_count": null,
   "metadata": {},
   "outputs": [],
   "source": []
  },
  {
   "cell_type": "code",
   "execution_count": null,
   "metadata": {},
   "outputs": [],
   "source": []
  },
  {
   "cell_type": "code",
   "execution_count": null,
   "metadata": {},
   "outputs": [],
   "source": []
  },
  {
   "cell_type": "code",
   "execution_count": null,
   "metadata": {},
   "outputs": [],
   "source": []
  },
  {
   "cell_type": "code",
   "execution_count": null,
   "metadata": {},
   "outputs": [],
   "source": []
  },
  {
   "cell_type": "code",
   "execution_count": null,
   "metadata": {},
   "outputs": [],
   "source": [
    "\n"
   ]
  }
 ],
 "metadata": {
  "kernelspec": {
   "display_name": "Python 3",
   "language": "python",
   "name": "python3"
  },
  "language_info": {
   "codemirror_mode": {
    "name": "ipython",
    "version": 3
   },
   "file_extension": ".py",
   "mimetype": "text/x-python",
   "name": "python",
   "nbconvert_exporter": "python",
   "pygments_lexer": "ipython3",
   "version": "3.7.4"
  }
 },
 "nbformat": 4,
 "nbformat_minor": 4
}
