{
 "cells": [
  {
   "cell_type": "code",
   "execution_count": 1,
   "metadata": {},
   "outputs": [
    {
     "name": "stdout",
     "output_type": "stream",
     "text": [
      "2 3 4\n",
      "3\n"
     ]
    }
   ],
   "source": [
    "print(len(set(list(map(int, input().split())))))"
   ]
  },
  {
   "cell_type": "code",
   "execution_count": 9,
   "metadata": {},
   "outputs": [
    {
     "name": "stdout",
     "output_type": "stream",
     "text": [
      "2 3 5\n",
      "3 5\n",
      "3 5\n"
     ]
    }
   ],
   "source": [
    "first = set(map(int, input().split()))\n",
    "second = set(map(int, input().split()))\n",
    "print(*[one for one in first if one in second], sep = ' ')"
   ]
  },
  {
   "cell_type": "code",
   "execution_count": null,
   "metadata": {},
   "outputs": [],
   "source": []
  },
  {
   "cell_type": "code",
   "execution_count": null,
   "metadata": {},
   "outputs": [],
   "source": []
  },
  {
   "cell_type": "code",
   "execution_count": 28,
   "metadata": {},
   "outputs": [
    {
     "name": "stdout",
     "output_type": "stream",
     "text": [
      "0 0\n"
     ]
    }
   ],
   "source": [
    "n, m = list(map(int, input().split()))\n",
    "\n",
    "anya = list()\n",
    "\n",
    "for i in range(n):\n",
    "    anya.append(int(input()))\n",
    "\n",
    "borya = list()\n",
    "\n",
    "for one in range(m):\n",
    "    borya.append(int(input()))\n",
    "    \n",
    "    \n"
   ]
  },
  {
   "cell_type": "code",
   "execution_count": 5,
   "metadata": {},
   "outputs": [
    {
     "name": "stdout",
     "output_type": "stream",
     "text": [
      "2 2\n",
      "1\n",
      "1\n",
      "1\n",
      "1\n",
      "1\n",
      "1\n",
      "0\n",
      "\n",
      "0\n",
      "\n"
     ]
    }
   ],
   "source": [
    "n, m = list(map(int, input().split()))\n",
    "\n",
    "anya = set()\n",
    "\n",
    "for i in range(n):\n",
    "    anya.add(int(input()))\n",
    "\n",
    "borya = set()\n",
    "\n",
    "for one in range(m):\n",
    "    borya.add(int(input()))\n",
    "    \n",
    "    \n",
    "print(len(anya.intersection(borya)))\n",
    "print(*sorted(anya.intersection(borya)), sep= ' ')\n",
    "\n",
    "\n",
    "\n",
    "print(len(anya.difference(borya)))\n",
    "print(*sorted(anya.difference(borya)), sep= ' ')\n",
    "\n",
    "print(len(borya.difference(anya)))\n",
    "print(*sorted(borya.difference(anya)), sep= ' ')\n",
    "\n"
   ]
  },
  {
   "cell_type": "code",
   "execution_count": 1,
   "metadata": {},
   "outputs": [
    {
     "name": "stdout",
     "output_type": "stream",
     "text": [
      "9\n"
     ]
    }
   ],
   "source": [
    "print(9)"
   ]
  },
  {
   "cell_type": "code",
   "execution_count": 9,
   "metadata": {},
   "outputs": [
    {
     "name": "stdout",
     "output_type": "stream",
     "text": [
      "1 2 3\n",
      "1123\n",
      "0\n"
     ]
    }
   ],
   "source": [
    "x, y, z =  input().split()\n",
    "\n",
    "\n",
    "n = set(input())\n",
    "\n",
    "print(len(n.difference(set([x,y,z]))))"
   ]
  },
  {
   "cell_type": "code",
   "execution_count": 27,
   "metadata": {},
   "outputs": [
    {
     "name": "stdout",
     "output_type": "stream",
     "text": [
      "She sells sea shells on the sea shore; The shells that she sells are sea shells I'm sure. So if she sells sea shells on the sea shore, I'm sure that the shells are sea shore shells.\n",
      "19\n"
     ]
    }
   ],
   "source": [
    "\n",
    "\n",
    "mas  = input().split('\\n')\n",
    "res =set()\n",
    "\n",
    "for one in mas:\n",
    "    res = res.union(one.split(' '))\n",
    "\n",
    "print(len(res))"
   ]
  },
  {
   "cell_type": "code",
   "execution_count": 28,
   "metadata": {},
   "outputs": [
    {
     "name": "stdout",
     "output_type": "stream",
     "text": [
      "0\n"
     ]
    }
   ],
   "source": [
    "import sys\n",
    "\n",
    "mas  = sys.stdin.readlines()\n",
    "res =set()\n",
    "\n",
    "for one in mas:\n",
    "    res = res.union(one.split(' '))\n",
    "\n",
    "print(len(res))"
   ]
  },
  {
   "cell_type": "code",
   "execution_count": 45,
   "metadata": {},
   "outputs": [
    {
     "name": "stdout",
     "output_type": "stream",
     "text": [
      "3\n",
      "3\n",
      "Russian\n",
      "English\n",
      "Japanese\n",
      "2\n",
      "Russian\n",
      "English\n",
      "1\n",
      "English\n",
      "3\n",
      "Russian\n",
      "Japanese\n",
      "English\n",
      "1\n",
      "English\n"
     ]
    }
   ],
   "source": [
    "n = int(input())\n",
    "res_first = set()\n",
    "res_second = set()\n",
    "k = int(input())\n",
    "    \n",
    "for ind in range(k):\n",
    "    language = input()        \n",
    "    res_first.add(language)\n",
    "    res_second.add(language)\n",
    "\n",
    "\n",
    "for one in range(n-1):\n",
    "    k = int(input())\n",
    "    res_med = set()\n",
    "    for ind in range(k):\n",
    "        language = input()\n",
    "        \n",
    "        \n",
    "        res_med.add(language)\n",
    "    \n",
    "    res_first = res_first.union(res_med)\n",
    "    res_second = res_second.intersection(res_med)\n",
    "        \n",
    "print(len(res_second))\n",
    "for one in res_second:\n",
    "    print(one)\n",
    "print(len(res_first))\n",
    "for one in res_first:\n",
    "    print(one)\n"
   ]
  },
  {
   "cell_type": "code",
   "execution_count": null,
   "metadata": {},
   "outputs": [],
   "source": [
    "3\n",
    "3\n",
    "Russian\n",
    "English\n",
    "Japanese\n",
    "2\n",
    "Russian\n",
    "English\n",
    "1\n",
    "English\n",
    "\n"
   ]
  },
  {
   "cell_type": "code",
   "execution_count": null,
   "metadata": {},
   "outputs": [],
   "source": [
    "3\n",
    "2 0\n",
    "0 2\n",
    "2 2\n"
   ]
  },
  {
   "cell_type": "code",
   "execution_count": 16,
   "metadata": {},
   "outputs": [
    {
     "name": "stdout",
     "output_type": "stream",
     "text": [
      "1\n",
      "2 2\n",
      "0\n"
     ]
    }
   ],
   "source": [
    "n = int(input())\n",
    "\n",
    "res = n * [0]\n",
    "\n",
    "mas = [1] * n\n",
    "answer = 0\n",
    "right = 0\n",
    "\n",
    "for i in range(n):\n",
    "    right, left = list(map(int, input().split()))\n",
    "    \n",
    "    if left < n and right < n and res[left] == 0:\n",
    "        if right == n - 1 - left:\n",
    "            res[left] = 1\n",
    "            answer += 1\n",
    "            \n",
    "print(answer)\n",
    "            \n",
    "        \n",
    "        \n",
    "    \n",
    "    "
   ]
  },
  {
   "cell_type": "code",
   "execution_count": null,
   "metadata": {},
   "outputs": [],
   "source": [
    "10\n",
    "9 1\n",
    "8 1\n",
    "7 2\n",
    "6 2\n",
    "5 3\n",
    "4 4\n",
    "3 6\n",
    "2 7\n",
    "1 9\n",
    "0 8\n",
    "\n",
    "\n"
   ]
  },
  {
   "cell_type": "code",
   "execution_count": 20,
   "metadata": {},
   "outputs": [
    {
     "name": "stdout",
     "output_type": "stream",
     "text": [
      "6\n",
      "1 1\n",
      "2 2\n",
      "3 3\n",
      "2 1\n",
      "3 2\n",
      "3 1\n",
      "3\n"
     ]
    }
   ],
   "source": [
    "n = int(input())\n",
    "\n",
    "num = set()\n",
    "\n",
    "for one in range(n):\n",
    "    x , y = list(map(int, input().split()))\n",
    "    \n",
    "    num.add(x)\n",
    "print(len(num))"
   ]
  },
  {
   "cell_type": "code",
   "execution_count": null,
   "metadata": {},
   "outputs": [],
   "source": [
    "6\n",
    "1 1\n",
    "2 2\n",
    "3 3\n",
    "2 1\n",
    "3 2\n",
    "3 1\n"
   ]
  },
  {
   "cell_type": "code",
   "execution_count": 21,
   "metadata": {},
   "outputs": [
    {
     "name": "stdout",
     "output_type": "stream",
     "text": [
      "She sells sea shells on the sea shore; The shells that she sells are sea shells I'm sure. So if she sells sea shells on the sea shore, I'm sure that the shells are sea shore shells.\n",
      "19\n"
     ]
    }
   ],
   "source": [
    "mas  = input().split('\\n')\n",
    "res =set()\n",
    "\n",
    "for one in mas:\n",
    "    one.replce()\n",
    "    res = res.union(one.split(' '))\n",
    "\n",
    "print(len(res))\n"
   ]
  },
  {
   "cell_type": "code",
   "execution_count": null,
   "metadata": {},
   "outputs": [],
   "source": [
    "t, d, n = list(map(int, input().split()))\n",
    "def func_t(t, before):\n",
    "    vefore = [0] * 4\n",
    "    before[0] += t\n",
    "    before[1] += t\n",
    "    before[2] -= t\n",
    "    before[3] -= t\n",
    "    return before\n",
    "\n",
    "    \n",
    "def func_navig(f, d):\n",
    "    first = f[1] + d - f[0]\n",
    "    second = f[1] + d + f[0]\n",
    "    third = f[1] - d - f[0]\n",
    "    thourth = f[1] - d + f[0]\n",
    "    return (first, second, third, thourth)\n",
    "\n",
    "def res(first_vector, second_vector):\n",
    "    union_vector =[0] *4\n",
    "    union_vector[0] = min(first_vector[0], second_vector[0])\n",
    "    union_vector[1] = min(first_vector[1], second_vector[1])\n",
    "    \n",
    "    union_vector[2] = max(first_vector[2], second_vector[2])\n",
    "    union_vector[3] = max(first_vector[3], second_vector[3])\n",
    "    return union_vector\n",
    "\n",
    "last_step = func_t(t, [0, 0, 0, 0])\n",
    "result = list(last_step)\n",
    "\n",
    "for ind in range(n):\n",
    "    if ind == 0:\n",
    "        last_step = func_t(t, [0, 0, 0, 0])\n",
    "    else:\n",
    "        lat_step = func_t(t, result)\n",
    "    #print(result)\n",
    "        \n",
    "    places = list(map(int, input().split()))\n",
    "    res_from_navi = func_navig(places, d)\n",
    "    result = res(result, res_from_navi)\n",
    "    \n",
    "dots = []\n",
    "for first in range(result[2], result[0] + 1):\n",
    "    for second in range(result[3], result[1] + 1):\n",
    "        if (second + first) % 2 == 0:\n",
    "            y = (second + first) / 2\n",
    "            x = second  - y\n",
    "            #print([x, y])\n",
    "            dots.append([int(x), int(y)])\n",
    "\n",
    "print(len(dots))\n",
    "\n",
    "for one in range(len(dots)):\n",
    "    print(*dots[one])"
   ]
  },
  {
   "cell_type": "code",
   "execution_count": null,
   "metadata": {},
   "outputs": [],
   "source": []
  },
  {
   "cell_type": "code",
   "execution_count": null,
   "metadata": {},
   "outputs": [],
   "source": []
  },
  {
   "cell_type": "code",
   "execution_count": null,
   "metadata": {},
   "outputs": [],
   "source": []
  },
  {
   "cell_type": "code",
   "execution_count": null,
   "metadata": {},
   "outputs": [],
   "source": []
  },
  {
   "cell_type": "code",
   "execution_count": null,
   "metadata": {},
   "outputs": [],
   "source": []
  },
  {
   "cell_type": "code",
   "execution_count": null,
   "metadata": {},
   "outputs": [],
   "source": []
  }
 ],
 "metadata": {
  "kernelspec": {
   "display_name": "Python 3",
   "language": "python",
   "name": "python3"
  },
  "language_info": {
   "codemirror_mode": {
    "name": "ipython",
    "version": 3
   },
   "file_extension": ".py",
   "mimetype": "text/x-python",
   "name": "python",
   "nbconvert_exporter": "python",
   "pygments_lexer": "ipython3",
   "version": "3.7.4"
  }
 },
 "nbformat": 4,
 "nbformat_minor": 4
}
