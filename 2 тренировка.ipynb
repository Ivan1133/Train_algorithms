{
 "cells": [
  {
   "cell_type": "code",
   "execution_count": 2,
   "metadata": {},
   "outputs": [
    {
     "name": "stdout",
     "output_type": "stream",
     "text": [
      "1 9 7\n",
      "NO\n"
     ]
    }
   ],
   "source": [
    "data = list(map(int, input().split()))\n",
    "\n",
    "answer = 'YES'\n",
    "for i in range(1, len(data)):\n",
    "    if data[i] <= data[i-1]:\n",
    "        answer = 'NO'\n",
    "print(answer)\n",
    "    \n",
    "\n",
    "\n"
   ]
  },
  {
   "cell_type": "code",
   "execution_count": 30,
   "metadata": {},
   "outputs": [
    {
     "name": "stdout",
     "output_type": "stream",
     "text": [
      "-530\n",
      "-530\n",
      "-530\n",
      "-530\n",
      "-2000000000\n",
      "CONSTANT\n"
     ]
    }
   ],
   "source": [
    "first = int(input())\n",
    "answer = ''\n",
    "\n",
    "def res( first, second, prefix):\n",
    "    if prefix in ['', 'CONSTANT'] and  second == first:\n",
    "            prefix ='CONSTANT'\n",
    "    elif prefix in ['', 'ASCENDING'] and second > first:\n",
    "            prefix ='ASCENDING'\n",
    "    elif prefix in ['', 'ASCENDING', 'WEAKLY ASCENDING','CONSTANT'] and  second >= first:\n",
    "            prefix ='WEAKLY ASCENDING'\n",
    "    elif  prefix in ['', 'DESCENDING'] and  second < first:\n",
    "            prefix ='DESCENDING'\n",
    "    elif  prefix in ['', 'DESCENDING', 'WEAKLY DESCENDING', 'CONSTANT'] and second <= first:\n",
    "            prefix ='WEAKLY DESCENDING'\n",
    "    else:\n",
    "        prefix = 'RANDOM'\n",
    "    return second, prefix\n",
    "\n",
    "\n",
    "if first ==-2000000000:\n",
    "    answer ='RANDOM'\n",
    "else:\n",
    "    while first != -2000000000:\n",
    "        second = int(input())\n",
    "        if second ==-2000000000:\n",
    "            break\n",
    "        first, answer = res(first, second, answer)\n",
    "print(answer)       \n",
    "        \n",
    "        \n",
    "        \n"
   ]
  },
  {
   "cell_type": "code",
   "execution_count": 9,
   "metadata": {},
   "outputs": [
    {
     "data": {
      "text/plain": [
       "-2000000000"
      ]
     },
     "execution_count": 9,
     "metadata": {},
     "output_type": "execute_result"
    }
   ],
   "source": [
    "-530\n",
    "-530\n",
    "-530\n",
    "-530\n",
    "-530\n",
    "-530\n",
    "-2000000000"
   ]
  },
  {
   "cell_type": "code",
   "execution_count": 34,
   "metadata": {},
   "outputs": [
    {
     "name": "stdout",
     "output_type": "stream",
     "text": [
      "5\n",
      "1 2 3 4 5\n",
      "6\n",
      "5\n"
     ]
    }
   ],
   "source": [
    "n = int(input())\n",
    "massiv = list(map(int, input().split()))\n",
    "x = int(input())\n",
    "\n",
    "\n",
    "dif = abs(massiv[0] - x)\n",
    "answer = 0\n",
    "if n != 1:\n",
    "    for one in range(1, n):\n",
    "        if abs(massiv[one] - x) < dif:\n",
    "            answer = one\n",
    "            dif = abs(massiv[one] - x)\n",
    "print(massiv[answer])\n",
    "\n"
   ]
  },
  {
   "cell_type": "code",
   "execution_count": null,
   "metadata": {},
   "outputs": [],
   "source": [
    "dif = abs(massiv[0] - x)\n",
    "answer = 0\n",
    "if n != 1:\n",
    "    for one in range(1, n):\n",
    "        if abs(massiv[one] - x):\n",
    "            answer = one\n",
    "            dif = abs(massiv[one] - x)\n",
    "print(massiv[answer])\n"
   ]
  },
  {
   "cell_type": "code",
   "execution_count": 37,
   "metadata": {},
   "outputs": [
    {
     "name": "stdout",
     "output_type": "stream",
     "text": [
      "1 5 1 5 1\n",
      "2\n"
     ]
    }
   ],
   "source": [
    "massiv = list(map(int, input().split()))\n",
    "result = 0 \n",
    "\n",
    "if len(massiv) > 2:\n",
    "    for ind in range(1, len(massiv) - 1):\n",
    "        if massiv[ind -1] < massiv[ind] and massiv[ind] > massiv[ind + 1]:\n",
    "            result += 1\n",
    "print(result)"
   ]
  },
  {
   "cell_type": "markdown",
   "metadata": {},
   "source": [
    "##  5 задание с пермским конкурсом\n"
   ]
  },
  {
   "cell_type": "code",
   "execution_count": null,
   "metadata": {},
   "outputs": [],
   "source": [
    "n_max = 0"
   ]
  },
  {
   "cell_type": "code",
   "execution_count": 13,
   "metadata": {},
   "outputs": [
    {
     "name": "stdout",
     "output_type": "stream",
     "text": [
      "3\n",
      "10 15 20\n",
      "0\n"
     ]
    }
   ],
   "source": [
    "n_max = 0\n",
    "max_value = 0\n",
    "\n",
    "n_answer = 0\n",
    "answer_value = 0\n",
    "res = 1\n",
    "\n",
    "n =int(input())\n",
    "mas = list(map(int, input().split()))\n",
    "\n",
    "for one in range(n):\n",
    "    if mas[one] > max_value:\n",
    "        max_value = mas[one]\n",
    "        n_max = one\n",
    "        \n",
    "\n",
    "for one in range(n-1):\n",
    "    if mas[one] % 10 == 5 and one > n_max and mas[one] > mas[one + 1] and answer_value < mas[one]:\n",
    "        n_answer = one\n",
    "        answer_value = mas[one]\n",
    "\n",
    "\n",
    "\n",
    "\n",
    "for one in range(n):\n",
    "    if mas[one] > answer_value:\n",
    "        res += 1\n",
    "if answer_value != 0:\n",
    "    print(res)\n",
    "else:\n",
    "    print(0)\n",
    "    \n",
    "    \n",
    "    \n",
    "    "
   ]
  },
  {
   "cell_type": "code",
   "execution_count": 3,
   "metadata": {},
   "outputs": [
    {
     "data": {
      "text/plain": [
       "5"
      ]
     },
     "execution_count": 3,
     "metadata": {},
     "output_type": "execute_result"
    }
   ],
   "source": [
    "n = int(input())\n",
    "massiv = list(map(int, input().split()))\n"
   ]
  },
  {
   "cell_type": "code",
   "execution_count": null,
   "metadata": {},
   "outputs": [],
   "source": [
    "massiv = list(map(int, input().split()))"
   ]
  },
  {
   "cell_type": "code",
   "execution_count": 8,
   "metadata": {},
   "outputs": [
    {
     "name": "stdout",
     "output_type": "stream",
     "text": [
      "4 3 5 2 5\n"
     ]
    }
   ],
   "source": [
    "massiv = list(map(int, input().split()))"
   ]
  },
  {
   "cell_type": "code",
   "execution_count": 13,
   "metadata": {},
   "outputs": [
    {
     "name": "stdout",
     "output_type": "stream",
     "text": [
      "12288 -10075 29710 15686 -18900 -17715 15992 24431 6220 28403 -23148 18480 -22905 5411 -7602 15560 -26674 11109 -4323 6146 -1523 4312 10666 -15343 -17679 7284 20709 -7103 24305 14334 -12281 17314 26061 25616 17453 16618 -24230 -19788 21172 11339 2202 -22442 -20997 1879 -8773 -8736 5310 -23372 12621 -25596 -28609 -13309 -13 10336 15812 -21193 21576 -1897 -12311 -6988 -25143 -3501 23231 26610 12618 25834 -29140 21011 23427 1494 15215 23013 -15739 8325 5359 -12932 18111 -72 -12509 20116 24390 1920 17487 25536 24934 -6784 -16417 -2222 -16569 -25594 4491 14249 -28927 27281 3297 5998 6259 4577 12415 3779 -8856 3994 19941 11047 2866 -24443 -17299 -9556 12244 6376 -13694 -14647 -22225 21872 7543 -6935 17736 -2464 9390 1133 18202 -9733 -26011 13474 29793 -26628 -26124 27776 970 14277 -23213 775 -9318 29014 -5645 -27027 -21822 -17450 -5 -655 22807 -20981 16310 27605 -18393 914 7323 599 -12503 -28684 5835 -5627 25891 -11801 21243 -21506 22542 -5097 8115 178 10427 25808 10836 -11213 18488 21293 14652 12260 42 21034 8396 -27956 13670 -296 -757 18076 -15597 4135 -25222 -19603 8007 6012 2704 28935 16188 -20848 13502 -11950 -24466 5440 26348 27378 7990 -11523 -26393 \n",
      "29710 29793\n"
     ]
    }
   ],
   "source": [
    "massiv = list(map(int, input().split()))\n",
    "\n",
    "max_ind_pos =0 if massiv[0] ==  max(massiv[:2]) else 1\n",
    "min_ind_neg =0 if max_ind_pos == 1 else 1\n",
    "\n",
    "\n",
    "for ind in range(2, (len(massiv))):\n",
    "    \n",
    "    if massiv[ind] > massiv[max_ind_pos]:\n",
    "        max_ind_pos = ind\n",
    "    \n",
    "    if massiv[ind] < massiv[min_ind_neg]:\n",
    "        min_ind_neg = ind\n",
    "        \n",
    "pair_pos = 1 if max_ind_pos!= 1 else 0\n",
    "pair_neg = 1 if min_ind_neg!= 1 else 0\n",
    "\n",
    "        \n",
    "for ind2 in range(len(massiv)):\n",
    "    \n",
    "    if massiv[ind2] > massiv[pair_pos] and ind2 != max_ind_pos:\n",
    "        pair_pos = ind2\n",
    "    \n",
    "    if massiv[ind2] < massiv[pair_neg] and ind2 != min_ind_neg:\n",
    "        pair_neg = ind2 \n",
    "\n",
    "if massiv[max_ind_pos] * massiv[pair_pos] >  massiv[min_ind_neg] * massiv[pair_neg]:\n",
    "    print(massiv[pair_pos], massiv[max_ind_pos])\n",
    "else:\n",
    "    print( massiv[min_ind_neg], massiv[pair_neg])\n",
    "        \n",
    "    \n"
   ]
  },
  {
   "cell_type": "code",
   "execution_count": 14,
   "metadata": {},
   "outputs": [
    {
     "data": {
      "text/plain": [
       "[1, 2]"
      ]
     },
     "execution_count": 14,
     "metadata": {},
     "output_type": "execute_result"
    }
   ],
   "source": [
    "[1,2,3,4][:2]"
   ]
  },
  {
   "cell_type": "code",
   "execution_count": null,
   "metadata": {},
   "outputs": [],
   "source": []
  },
  {
   "cell_type": "code",
   "execution_count": null,
   "metadata": {},
   "outputs": [],
   "source": []
  },
  {
   "cell_type": "code",
   "execution_count": null,
   "metadata": {},
   "outputs": [],
   "source": [
    "\n",
    "def func(seq):\n",
    "    aver = len(seq) // 2\n",
    "    place_the_same = -1\n",
    "    \n",
    "    for one in range(aver, len(seq)):\n",
    "        if seq[one + 1:len(seq)] == seq[one-1: one - 1  - (len(seq)- one -1) : -1]:\n",
    "            \n",
    "\n",
    "\n",
    "\n",
    "\n",
    "\n",
    "\n",
    "\n",
    "\n"
   ]
  },
  {
   "cell_type": "code",
   "execution_count": null,
   "metadata": {},
   "outputs": [],
   "source": [
    "max_positive = max(massiv[:2])\n",
    "min_negative = min(massiv[:2])\n",
    "max_value = min_negative * max_positive\n",
    "\n",
    "\n",
    "curr_num = \n",
    "\n",
    "for one in range(2,len(massiv)):\n",
    "    if max_positive * massiv[one] > max_value:\n",
    "        max_value = max_positive * massiv[one]\n",
    "    if min_negative * massiv[one] > max_value:\n",
    "        max_value = min_negative* massiv[one]\n",
    "    \n",
    "    if min_negative > massiv[one]:\n",
    "        min_negative = massiv[one]\n",
    "    if max_positive < massiv[one]:\n",
    "        max_positive = massiv[one]\n",
    "print(max_value)"
   ]
  },
  {
   "cell_type": "code",
   "execution_count": null,
   "metadata": {},
   "outputs": [],
   "source": []
  },
  {
   "cell_type": "code",
   "execution_count": 71,
   "metadata": {},
   "outputs": [
    {
     "name": "stdout",
     "output_type": "stream",
     "text": [
      "9\n",
      "1 2 3 4 5 4 3 2 1\n"
     ]
    }
   ],
   "source": [
    "n = int(input())\n",
    "mas = list(map(int, input().split()))"
   ]
  },
  {
   "cell_type": "code",
   "execution_count": 72,
   "metadata": {},
   "outputs": [
    {
     "name": "stdout",
     "output_type": "stream",
     "text": [
      "0\n"
     ]
    }
   ],
   "source": [
    "\n",
    "n = int(input())\n",
    "mas = list(map(int, input().split()))\n",
    "flag = None\n",
    "res = len(mas) - 1\n",
    "\n",
    "for ind in range(n//2, n):\n",
    "\n",
    "    if mas[ind:] == mas[2 * ind - len(mas):ind][::-1]:\n",
    "        res = ind\n",
    "        flag = 0\n",
    "        break\n",
    "    elif mas[ind + 1:] == mas[2 * ind - n + 1:ind ][::-1]:\n",
    "        flag = 1\n",
    "        res = ind\n",
    "        break  \n",
    "\n",
    "if flag == 0:\n",
    "    ans_first = len(mas) - len(mas[ind:] + mas[ind:][::-1])\n",
    "    ans_second = mas[:ans_first][::-1]\n",
    "elif flag ==1:\n",
    "    ans_first = len(mas)  - 2 * len(mas[ind+1:]) -1\n",
    "    ans_second = mas[:ans_first][::-1]\n",
    "elif ind == n-1:\n",
    "    ans_first = n -1\n",
    "    ans_second = mas[:ans_first][::-1]\n",
    "\n",
    "if ind == n//2:\n",
    "    print(0)\n",
    "else:\n",
    "    print(ans_first)\n",
    "    print(*ans_second, sep=' ')\n",
    "    \n",
    "    \n"
   ]
  },
  {
   "cell_type": "code",
   "execution_count": 62,
   "metadata": {},
   "outputs": [
    {
     "data": {
      "text/plain": [
       "[1]"
      ]
     },
     "execution_count": 62,
     "metadata": {},
     "output_type": "execute_result"
    }
   ],
   "source": []
  },
  {
   "cell_type": "code",
   "execution_count": null,
   "metadata": {},
   "outputs": [],
   "source": [
    "mas = list(map(int, input().split()))\n"
   ]
  },
  {
   "cell_type": "code",
   "execution_count": 45,
   "metadata": {},
   "outputs": [
    {
     "name": "stdout",
     "output_type": "stream",
     "text": [
      "1 2 3\n",
      "[2, 1] max\n",
      "[0, 1] min\n",
      "3 2 1\n"
     ]
    }
   ],
   "source": [
    "mas = list(map(int, input().split()))\n",
    "max_first = 0\n",
    "min_first = 1\n",
    "\n",
    "\n",
    "for ind in range(len(mas)):\n",
    "    if mas[ind] > mas[max_first]:\n",
    "        max_first = ind\n",
    "    \n",
    "    if mas[ind] < mas[min_first]:\n",
    "        min_first = ind\n",
    "            \n",
    "        \n",
    "max_computation = mas[max_first] * mas[min_first]\n",
    "min_computation = mas[max_first] * mas[min_first]\n",
    "\n",
    "max_second = min_first\n",
    "min_second = max_first\n",
    "\n",
    "answer_pos = [max_first, min_first]\n",
    "answer_neg = [min_first, max_first]\n",
    "\n",
    "\n",
    "\n",
    "for ind2 in range(len(mas)):\n",
    "    if ind2 != max_first and mas[max_first] * mas[ind2] > max_computation:\n",
    "        max_computation = mas[max_first] * mas[ind2]\n",
    "        answer_pos = [max_first, ind2]\n",
    "    \n",
    "    if ind2 != min_first and mas[min_first] * mas[ind2] > max_computation:\n",
    "        max_computation = mas[min_first] * mas[ind2]\n",
    "        answer_pos = [min_first, ind2]\n",
    "        \n",
    "    if ind2 != max_first and mas[max_first] * mas[ind2] < min_computation:\n",
    "        min_computation = mas[max_first] * mas[ind2]\n",
    "        answer_neg = [max_first, ind2]\n",
    "    \n",
    "    if ind2 != min_first and mas[min_first] * mas[ind2] < min_computation:\n",
    "        min_computation = mas[min_first] * mas[ind2]\n",
    "        answer_neg = [min_first, ind2]\n",
    "\n",
    "\n",
    "\n",
    "    \n",
    "third_neg = 0 if 0 not in answer_neg else 1 if 1 not in answer_neg else 2\n",
    "third_pos = 0 if 0 not in answer_pos else 1 if 1 not in answer_pos else 2\n",
    "\n",
    "max_end = mas[answer_pos[0]] * mas[answer_pos[1]]*mas[third_pos]\n",
    "flag = -1\n",
    "\n",
    "for ind in range(len(mas)):\n",
    "\n",
    "    if ind not in answer_pos:\n",
    "        \n",
    "        if mas[answer_pos[0]] * mas[answer_pos[1]]*mas[ind] > max_end:\n",
    "           \n",
    "            flag =1\n",
    "            third_pos = ind\n",
    "            max_end = mas[answer_pos[0]] * mas[answer_pos[1]]*mas[ind]\n",
    "            \n",
    "            \n",
    "    if ind not in answer_neg:\n",
    "        if mas[answer_neg[0]] * mas[answer_neg[1]]*mas[ind] > max_end:\n",
    "           \n",
    "            flag = 0\n",
    "            third_neg = ind\n",
    "            max_end = mas[answer_neg[0]] * mas[answer_neg[1]]*mas[ind]\n",
    "        \n",
    "if flag ==0:\n",
    "    print(mas[answer_neg[0]], mas[answer_neg[1]],mas[third_neg])\n",
    "else:\n",
    "    print(mas[answer_pos[0]],  mas[answer_pos[1]], mas[third_pos])"
   ]
  },
  {
   "cell_type": "code",
   "execution_count": null,
   "metadata": {},
   "outputs": [],
   "source": []
  },
  {
   "cell_type": "code",
   "execution_count": 3,
   "metadata": {},
   "outputs": [
    {
     "name": "stdout",
     "output_type": "stream",
     "text": [
      "3 2 2\n",
      "1 1\n",
      "2 2\n",
      "[[1, 1], [2, 2]]\n"
     ]
    }
   ],
   "source": [
    "n, m, k = list(map(int, input().split()))\n",
    "mines = list()\n",
    "\n",
    "\n",
    "for one in range(k):\n",
    "    mines.append(list(map(int, input().split())))\n",
    "    \n",
    "    \n",
    "print(mines)"
   ]
  },
  {
   "cell_type": "code",
   "execution_count": 20,
   "metadata": {},
   "outputs": [
    {
     "name": "stdout",
     "output_type": "stream",
     "text": [
      "4 4 4\n",
      "1 3\n",
      "2 1\n",
      "4 2\n",
      "4 4\n",
      "1 2 * 1 \n",
      "* 2 1 1 \n",
      "2 2 2 1 \n",
      "1 * 2 * \n"
     ]
    }
   ],
   "source": [
    "n, m, k = list(map(int, input().split()))\n",
    "mines = list()\n",
    "\n",
    "\n",
    "for one in range(k):\n",
    "    mines.append(list(map(int, input().split())))\n",
    "start = [[0] * (m + 2) for i in range(n + 2)]\n",
    "\n",
    "for one in range(k):\n",
    "    first = mines[one][0]\n",
    "    second = mines[one][1]\n",
    "    \n",
    "    start[first][second] = 1\n",
    "\n",
    "end = [[0] * (m + 2) for i in range(n + 2)]\n",
    "\n",
    "def number(first, second):\n",
    "    if start[first][second] == 1:\n",
    "        return '*'\n",
    "    else:\n",
    "        res = sum([start[first-1][second + i] for i in[-1, 0, 1]])+sum([start[first+1][second + i] for i in[-1, 0, 1]])\n",
    "        res += start[first][second + 1]+start[first][second -1]\n",
    "        return res\n",
    "        \n",
    "for i in range(1, n+1):\n",
    "    for j in range(1, m +1):\n",
    "        print(number(i,j), end=' ')\n",
    "    print()\n"
   ]
  },
  {
   "cell_type": "code",
   "execution_count": null,
   "metadata": {},
   "outputs": [],
   "source": [
    "4 4 4\n",
    "1 3\n",
    "2 1\n",
    "4 2\n",
    "4 4\n"
   ]
  },
  {
   "cell_type": "code",
   "execution_count": 7,
   "metadata": {},
   "outputs": [
    {
     "name": "stdout",
     "output_type": "stream",
     "text": [
      "2\n",
      "200\n",
      "240 closer\n",
      "220.0 4000.0\n"
     ]
    }
   ],
   "source": [
    "n = int(input())\n",
    "\n",
    "max_note = 4000\n",
    "min_note = 30\n",
    "\n",
    "before = float(input())\n",
    "\n",
    "for one in range(n - 1):\n",
    "    note, now = list(input().split())\n",
    "    note = float(note)\n",
    "    \n",
    "    if (before > note and now == 'closer') or (before < note and now == 'further'):\n",
    "        res = (before + note) / 2\n",
    "        \n",
    "        if max_note > res:\n",
    "            max_note = res\n",
    "    \n",
    "    \n",
    "    if (before > note and now == 'further') or (before < note and now == 'closer'):\n",
    "            res = (before + note) / 2\n",
    "            \n",
    "            if min_note < res:\n",
    "                min_note = res\n",
    "    before = note\n",
    "                \n",
    "    \n",
    "        \n",
    "print(float(min_note), float(max_note))   \n",
    "    "
   ]
  },
  {
   "cell_type": "code",
   "execution_count": null,
   "metadata": {},
   "outputs": [],
   "source": [
    "4\n",
    "554\n",
    "880 further\n",
    "440 closer\n",
    "622 closer\n"
   ]
  }
 ],
 "metadata": {
  "kernelspec": {
   "display_name": "Python 3",
   "language": "python",
   "name": "python3"
  },
  "language_info": {
   "codemirror_mode": {
    "name": "ipython",
    "version": 3
   },
   "file_extension": ".py",
   "mimetype": "text/x-python",
   "name": "python",
   "nbconvert_exporter": "python",
   "pygments_lexer": "ipython3",
   "version": "3.7.4"
  }
 },
 "nbformat": 4,
 "nbformat_minor": 4
}
